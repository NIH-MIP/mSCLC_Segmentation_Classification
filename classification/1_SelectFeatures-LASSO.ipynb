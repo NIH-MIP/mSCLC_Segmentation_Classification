{
 "cells": [
  {
   "cell_type": "code",
   "execution_count": 1,
   "id": "f73c290f",
   "metadata": {},
   "outputs": [],
   "source": [
    "import os\n",
    "import pandas as pd\n",
    "import numpy as np\n",
    "import random\n",
    "\n",
    "#import logistic regression tools\n",
    "from sklearn.linear_model import Lasso, Ridge\n",
    "\n",
    "#import other classifier tools\n",
    "from sklearn.linear_model import SGDRegressor\n",
    "from sklearn.linear_model import LinearRegression\n",
    "from sklearn.metrics import confusion_matrix, mean_squared_error\n",
    "from sklearn.model_selection import GridSearchCV, KFold, train_test_split\n",
    "from sklearn.pipeline import make_pipeline\n",
    "from sklearn.preprocessing import StandardScaler\n",
    "import xgboost as xgb\n",
    "from sklearn.ensemble import RandomForestClassifier\n",
    "\n",
    "import warnings\n",
    "warnings.filterwarnings(\"ignore\")"
   ]
  },
  {
   "cell_type": "code",
   "execution_count": 2,
   "id": "33c7d853",
   "metadata": {},
   "outputs": [],
   "source": [
    "# initialize output directory\n",
    "output_dir = \"./results\"\n",
    "if not os.path.exists(output_dir):\n",
    "    os.mkdir(output_dir)"
   ]
  },
  {
   "cell_type": "code",
   "execution_count": 3,
   "id": "4ad032ce",
   "metadata": {},
   "outputs": [],
   "source": [
    "#load radiomics data\n",
    "feat_data_dir = \"./Final_ResampledClassificationData.csv\"\n",
    "feat_data = pd.read_csv(feat_data_dir)"
   ]
  },
  {
   "cell_type": "code",
   "execution_count": 4,
   "id": "de652bcf",
   "metadata": {},
   "outputs": [],
   "source": [
    "#interrogate data if needed\n",
    "#print(feat_data)"
   ]
  },
  {
   "cell_type": "code",
   "execution_count": 5,
   "id": "8d31084d",
   "metadata": {},
   "outputs": [],
   "source": [
    "#split data to training and testing dataframe\n",
    "train_df = feat_data[feat_data[\"Group\"] == \"train\"]\n",
    "val_df = feat_data[feat_data[\"Group\"] == \"val\"]\n",
    "test_df = feat_data[feat_data[\"Group\"] == \"test\"]\n",
    "merge_train = feat_data[feat_data[\"Group\"] != \"test\"]"
   ]
  },
  {
   "cell_type": "code",
   "execution_count": 6,
   "id": "506596fa",
   "metadata": {},
   "outputs": [
    {
     "name": "stdout",
     "output_type": "stream",
     "text": [
      "['original_shape_Elongation' 'original_shape_Flatness'\n",
      " 'original_shape_LeastAxisLength' 'original_shape_MajorAxisLength'\n",
      " 'original_shape_Maximum2DDiameterColumn'\n",
      " 'original_shape_Maximum2DDiameterRow'\n",
      " 'original_shape_Maximum2DDiameterSlice'\n",
      " 'original_shape_Maximum3DDiameter' 'original_shape_MeshVolume'\n",
      " 'original_shape_MinorAxisLength' 'original_shape_Sphericity'\n",
      " 'original_shape_SurfaceArea' 'original_shape_SurfaceVolumeRatio'\n",
      " 'original_shape_VoxelVolume' 'original_firstorder_10Percentile'\n",
      " 'original_firstorder_90Percentile' 'original_firstorder_Energy'\n",
      " 'original_firstorder_Entropy' 'original_firstorder_InterquartileRange'\n",
      " 'original_firstorder_Kurtosis' 'original_firstorder_Maximum'\n",
      " 'original_firstorder_MeanAbsoluteDeviation' 'original_firstorder_Mean'\n",
      " 'original_firstorder_Median' 'original_firstorder_Minimum'\n",
      " 'original_firstorder_Range'\n",
      " 'original_firstorder_RobustMeanAbsoluteDeviation'\n",
      " 'original_firstorder_RootMeanSquared' 'original_firstorder_Skewness'\n",
      " 'original_firstorder_TotalEnergy' 'original_firstorder_Uniformity'\n",
      " 'original_firstorder_Variance' 'original_glcm_Autocorrelation'\n",
      " 'original_glcm_ClusterProminence' 'original_glcm_ClusterShade'\n",
      " 'original_glcm_ClusterTendency' 'original_glcm_Contrast'\n",
      " 'original_glcm_Correlation' 'original_glcm_DifferenceAverage'\n",
      " 'original_glcm_DifferenceEntropy' 'original_glcm_DifferenceVariance'\n",
      " 'original_glcm_Id' 'original_glcm_Idm' 'original_glcm_Idmn'\n",
      " 'original_glcm_Idn' 'original_glcm_Imc1' 'original_glcm_Imc2'\n",
      " 'original_glcm_InverseVariance' 'original_glcm_JointAverage'\n",
      " 'original_glcm_JointEnergy' 'original_glcm_JointEntropy'\n",
      " 'original_glcm_MCC' 'original_glcm_MaximumProbability'\n",
      " 'original_glcm_SumAverage' 'original_glcm_SumEntropy'\n",
      " 'original_glcm_SumSquares' 'original_gldm_DependenceEntropy'\n",
      " 'original_gldm_DependenceNonUniformity'\n",
      " 'original_gldm_DependenceNonUniformityNormalized'\n",
      " 'original_gldm_DependenceVariance' 'original_gldm_GrayLevelNonUniformity'\n",
      " 'original_gldm_GrayLevelVariance' 'original_gldm_HighGrayLevelEmphasis'\n",
      " 'original_gldm_LargeDependenceEmphasis'\n",
      " 'original_gldm_LargeDependenceHighGrayLevelEmphasis'\n",
      " 'original_gldm_LargeDependenceLowGrayLevelEmphasis'\n",
      " 'original_gldm_LowGrayLevelEmphasis'\n",
      " 'original_gldm_SmallDependenceEmphasis'\n",
      " 'original_gldm_SmallDependenceHighGrayLevelEmphasis'\n",
      " 'original_gldm_SmallDependenceLowGrayLevelEmphasis'\n",
      " 'original_glrlm_GrayLevelNonUniformity'\n",
      " 'original_glrlm_GrayLevelNonUniformityNormalized'\n",
      " 'original_glrlm_GrayLevelVariance'\n",
      " 'original_glrlm_HighGrayLevelRunEmphasis'\n",
      " 'original_glrlm_LongRunEmphasis'\n",
      " 'original_glrlm_LongRunHighGrayLevelEmphasis'\n",
      " 'original_glrlm_LongRunLowGrayLevelEmphasis'\n",
      " 'original_glrlm_LowGrayLevelRunEmphasis' 'original_glrlm_RunEntropy'\n",
      " 'original_glrlm_RunLengthNonUniformity'\n",
      " 'original_glrlm_RunLengthNonUniformityNormalized'\n",
      " 'original_glrlm_RunPercentage' 'original_glrlm_RunVariance'\n",
      " 'original_glrlm_ShortRunEmphasis'\n",
      " 'original_glrlm_ShortRunHighGrayLevelEmphasis'\n",
      " 'original_glrlm_ShortRunLowGrayLevelEmphasis'\n",
      " 'original_glszm_GrayLevelNonUniformity'\n",
      " 'original_glszm_GrayLevelNonUniformityNormalized'\n",
      " 'original_glszm_GrayLevelVariance'\n",
      " 'original_glszm_HighGrayLevelZoneEmphasis'\n",
      " 'original_glszm_LargeAreaEmphasis'\n",
      " 'original_glszm_LargeAreaHighGrayLevelEmphasis'\n",
      " 'original_glszm_LargeAreaLowGrayLevelEmphasis'\n",
      " 'original_glszm_LowGrayLevelZoneEmphasis'\n",
      " 'original_glszm_SizeZoneNonUniformity'\n",
      " 'original_glszm_SizeZoneNonUniformityNormalized'\n",
      " 'original_glszm_SmallAreaEmphasis'\n",
      " 'original_glszm_SmallAreaHighGrayLevelEmphasis'\n",
      " 'original_glszm_SmallAreaLowGrayLevelEmphasis'\n",
      " 'original_glszm_ZoneEntropy' 'original_glszm_ZonePercentage'\n",
      " 'original_glszm_ZoneVariance' 'original_ngtdm_Busyness'\n",
      " 'original_ngtdm_Coarseness' 'original_ngtdm_Complexity'\n",
      " 'original_ngtdm_Contrast' 'original_ngtdm_Strength' 'Num_Lesions']\n"
     ]
    }
   ],
   "source": [
    "#select radiomics features from df (starting from original_shape_Elongation)\n",
    "features = merge_train.columns.values[40:148]\n",
    "print(features)"
   ]
  },
  {
   "cell_type": "code",
   "execution_count": 7,
   "id": "c19b948b",
   "metadata": {},
   "outputs": [],
   "source": [
    "#Get Respective Training and Test Predictor and Explanatory variable\n",
    "X_train = merge_train.loc[:, features]\n",
    "Y_train = merge_train.loc[:, \"NE_Score\"]\n",
    "\n",
    "X_test = test_df.loc[:, features]\n",
    "Y_test = test_df.loc[:,\"NE_Score\"]"
   ]
  },
  {
   "cell_type": "code",
   "execution_count": 8,
   "id": "8efd5272",
   "metadata": {},
   "outputs": [],
   "source": [
    "#Use LASSO Regression to Select Features\n",
    "clf = Lasso(alpha=0.35)\n",
    "clf.fit(X_train, Y_train)\n",
    "\n",
    "#Apply Test Set\n",
    "results = clf.predict(X_test)\n",
    "test_results = {\"File\" : test_df[\"File\"].tolist(), \"Predicted_NEScore\" : results.tolist(), \"True_NEScore\": Y_test.tolist()}\n",
    "#print(\"Predicted NE Scores for X_test:\")\n",
    "#print(test_results)"
   ]
  },
  {
   "cell_type": "code",
   "execution_count": 9,
   "id": "fc7d4c2d",
   "metadata": {},
   "outputs": [
    {
     "name": "stdout",
     "output_type": "stream",
     "text": [
      "[[1.         0.15739315]\n",
      " [0.15739315 1.        ]]\n"
     ]
    }
   ],
   "source": [
    "#Eval Performance on Test Data\n",
    "clf.score(X_test, Y_test, sample_weight=None)\n",
    "R2_value = np.corrcoef(Y_test, results)\n",
    "print(R2_value)"
   ]
  },
  {
   "cell_type": "code",
   "execution_count": 10,
   "id": "ed97f247",
   "metadata": {},
   "outputs": [],
   "source": [
    "# Get Correlation Coefficient Matrix\n",
    "coeff_mat = np.array(clf.coef_) #coefficient for each feature\n",
    "features_select = {\"Feature\": features.tolist(), \"CorrelationCoefficient\": coeff_mat.tolist()}"
   ]
  },
  {
   "cell_type": "code",
   "execution_count": 11,
   "id": "ad750ee7",
   "metadata": {},
   "outputs": [
    {
     "name": "stdout",
     "output_type": "stream",
     "text": [
      "                                               Feature  CorrelationCoefficient\n",
      "3                       original_shape_MajorAxisLength            7.589864e-05\n",
      "5                  original_shape_Maximum2DDiameterRow            2.964812e-04\n",
      "8                            original_shape_MeshVolume           -4.984148e-07\n",
      "9                       original_shape_MinorAxisLength            4.214767e-04\n",
      "11                          original_shape_SurfaceArea           -3.287866e-08\n",
      "13                          original_shape_VoxelVolume           -3.788453e-08\n",
      "16                          original_firstorder_Energy           -4.318938e-12\n",
      "29                     original_firstorder_TotalEnergy           -9.429379e-14\n",
      "31                        original_firstorder_Variance           -3.450927e-05\n",
      "57               original_gldm_DependenceNonUniformity            1.293782e-05\n",
      "60                original_gldm_GrayLevelNonUniformity           -1.954947e-07\n",
      "63               original_gldm_LargeDependenceEmphasis            7.411561e-05\n",
      "64   original_gldm_LargeDependenceHighGrayLevelEmph...           -7.959986e-08\n",
      "70               original_glrlm_GrayLevelNonUniformity            2.720899e-07\n",
      "79               original_glrlm_RunLengthNonUniformity           -2.196634e-07\n",
      "86               original_glszm_GrayLevelNonUniformity           -6.913164e-07\n",
      "90                    original_glszm_LargeAreaEmphasis           -2.116887e-09\n",
      "91       original_glszm_LargeAreaHighGrayLevelEmphasis           -1.544419e-12\n",
      "92        original_glszm_LargeAreaLowGrayLevelEmphasis           -1.603310e-07\n",
      "101                        original_glszm_ZoneVariance            1.365587e-09\n",
      "\n",
      "\n",
      "Number of relevant features: \n",
      "20\n"
     ]
    }
   ],
   "source": [
    "#Get All Features Identified in Lasso\n",
    "features_df = pd.DataFrame(features_select)\n",
    "QOI = features_df[features_df[\"CorrelationCoefficient\"] != 0]\n",
    "print(QOI)\n",
    "\n",
    "print(\"\\n\\nNumber of relevant features: \")\n",
    "print(len(QOI[\"Feature\"].tolist()))"
   ]
  },
  {
   "cell_type": "code",
   "execution_count": null,
   "id": "c52a25a9",
   "metadata": {},
   "outputs": [],
   "source": []
  },
  {
   "cell_type": "code",
   "execution_count": 12,
   "id": "1e572cf3",
   "metadata": {},
   "outputs": [
    {
     "name": "stdout",
     "output_type": "stream",
     "text": [
      "[1.29378240e-05 7.41156063e-05 7.58986404e-05 2.96481240e-04\n",
      " 4.21476657e-04]\n",
      "['original_gldm_DependenceNonUniformity'\n",
      " 'original_gldm_LargeDependenceEmphasis' 'original_shape_MajorAxisLength'\n",
      " 'original_shape_Maximum2DDiameterRow' 'original_shape_MinorAxisLength']\n"
     ]
    }
   ],
   "source": [
    "#look at top 5 (raw coefficient)\n",
    "ind = np.argpartition(coeff_mat, -5)[-5:]\n",
    "top5_values = coeff_mat[ind]\n",
    "top5_labels = features[ind]\n",
    "print(top5_values)\n",
    "print(top5_labels)"
   ]
  },
  {
   "cell_type": "code",
   "execution_count": 13,
   "id": "a3e99257",
   "metadata": {},
   "outputs": [
    {
     "name": "stdout",
     "output_type": "stream",
     "text": [
      "[ 0.00000000e+00 -0.00000000e+00 -0.00000000e+00  7.58986404e-05\n",
      " -0.00000000e+00  2.96481240e-04 -0.00000000e+00 -0.00000000e+00\n",
      " -4.98414806e-07  4.21476657e-04  0.00000000e+00 -3.28786635e-08\n",
      " -0.00000000e+00 -3.78845317e-08  0.00000000e+00 -0.00000000e+00\n",
      " -4.31893830e-12 -0.00000000e+00 -0.00000000e+00 -0.00000000e+00\n",
      " -0.00000000e+00 -0.00000000e+00 -0.00000000e+00 -0.00000000e+00\n",
      " -0.00000000e+00 -0.00000000e+00 -0.00000000e+00 -0.00000000e+00\n",
      "  0.00000000e+00 -9.42937866e-14  0.00000000e+00 -3.45092704e-05\n",
      "  0.00000000e+00 -0.00000000e+00 -0.00000000e+00 -0.00000000e+00\n",
      "  0.00000000e+00 -0.00000000e+00  0.00000000e+00 -0.00000000e+00\n",
      "  0.00000000e+00 -0.00000000e+00 -0.00000000e+00  0.00000000e+00\n",
      "  0.00000000e+00  0.00000000e+00 -0.00000000e+00  0.00000000e+00\n",
      "  0.00000000e+00 -0.00000000e+00 -0.00000000e+00 -0.00000000e+00\n",
      " -0.00000000e+00  0.00000000e+00 -0.00000000e+00 -0.00000000e+00\n",
      "  0.00000000e+00  1.29378240e-05 -0.00000000e+00  0.00000000e+00\n",
      " -1.95494749e-07 -0.00000000e+00  0.00000000e+00  7.41156063e-05\n",
      " -7.95998646e-08 -0.00000000e+00 -0.00000000e+00 -0.00000000e+00\n",
      "  0.00000000e+00 -0.00000000e+00  2.72089870e-07  0.00000000e+00\n",
      " -0.00000000e+00  0.00000000e+00  0.00000000e+00  0.00000000e+00\n",
      " -0.00000000e+00 -0.00000000e+00  0.00000000e+00 -2.19663362e-07\n",
      " -0.00000000e+00 -0.00000000e+00  0.00000000e+00 -0.00000000e+00\n",
      "  0.00000000e+00 -0.00000000e+00 -6.91316388e-07  0.00000000e+00\n",
      "  0.00000000e+00  0.00000000e+00 -2.11688674e-09 -1.54441870e-12\n",
      " -1.60331018e-07  0.00000000e+00 -0.00000000e+00  0.00000000e+00\n",
      "  0.00000000e+00  0.00000000e+00  0.00000000e+00 -0.00000000e+00\n",
      " -0.00000000e+00  1.36558660e-09 -0.00000000e+00 -0.00000000e+00\n",
      "  0.00000000e+00 -0.00000000e+00 -0.00000000e+00 -0.00000000e+00]\n",
      "\n",
      "\n",
      "Looking at magnitude only: \n",
      "[0.00000000e+00 0.00000000e+00 0.00000000e+00 7.58986404e-05\n",
      " 0.00000000e+00 2.96481240e-04 0.00000000e+00 0.00000000e+00\n",
      " 4.98414806e-07 4.21476657e-04 0.00000000e+00 3.28786635e-08\n",
      " 0.00000000e+00 3.78845317e-08 0.00000000e+00 0.00000000e+00\n",
      " 4.31893830e-12 0.00000000e+00 0.00000000e+00 0.00000000e+00\n",
      " 0.00000000e+00 0.00000000e+00 0.00000000e+00 0.00000000e+00\n",
      " 0.00000000e+00 0.00000000e+00 0.00000000e+00 0.00000000e+00\n",
      " 0.00000000e+00 9.42937866e-14 0.00000000e+00 3.45092704e-05\n",
      " 0.00000000e+00 0.00000000e+00 0.00000000e+00 0.00000000e+00\n",
      " 0.00000000e+00 0.00000000e+00 0.00000000e+00 0.00000000e+00\n",
      " 0.00000000e+00 0.00000000e+00 0.00000000e+00 0.00000000e+00\n",
      " 0.00000000e+00 0.00000000e+00 0.00000000e+00 0.00000000e+00\n",
      " 0.00000000e+00 0.00000000e+00 0.00000000e+00 0.00000000e+00\n",
      " 0.00000000e+00 0.00000000e+00 0.00000000e+00 0.00000000e+00\n",
      " 0.00000000e+00 1.29378240e-05 0.00000000e+00 0.00000000e+00\n",
      " 1.95494749e-07 0.00000000e+00 0.00000000e+00 7.41156063e-05\n",
      " 7.95998646e-08 0.00000000e+00 0.00000000e+00 0.00000000e+00\n",
      " 0.00000000e+00 0.00000000e+00 2.72089870e-07 0.00000000e+00\n",
      " 0.00000000e+00 0.00000000e+00 0.00000000e+00 0.00000000e+00\n",
      " 0.00000000e+00 0.00000000e+00 0.00000000e+00 2.19663362e-07\n",
      " 0.00000000e+00 0.00000000e+00 0.00000000e+00 0.00000000e+00\n",
      " 0.00000000e+00 0.00000000e+00 6.91316388e-07 0.00000000e+00\n",
      " 0.00000000e+00 0.00000000e+00 2.11688674e-09 1.54441870e-12\n",
      " 1.60331018e-07 0.00000000e+00 0.00000000e+00 0.00000000e+00\n",
      " 0.00000000e+00 0.00000000e+00 0.00000000e+00 0.00000000e+00\n",
      " 0.00000000e+00 1.36558660e-09 0.00000000e+00 0.00000000e+00\n",
      " 0.00000000e+00 0.00000000e+00 0.00000000e+00 0.00000000e+00]\n"
     ]
    }
   ],
   "source": [
    "#look at correlation\n",
    "print(coeff_mat)\n",
    "magnitude_coeff = abs(coeff_mat)\n",
    "print(\"\\n\\nLooking at magnitude only: \")\n",
    "print(magnitude_coeff)"
   ]
  },
  {
   "cell_type": "code",
   "execution_count": 14,
   "id": "35c928ec",
   "metadata": {},
   "outputs": [
    {
     "name": "stdout",
     "output_type": "stream",
     "text": [
      "[-3.45092704e-05  7.41156063e-05  7.58986404e-05  2.96481240e-04\n",
      "  4.21476657e-04]\n",
      "['original_firstorder_Variance' 'original_gldm_LargeDependenceEmphasis'\n",
      " 'original_shape_MajorAxisLength' 'original_shape_Maximum2DDiameterRow'\n",
      " 'original_shape_MinorAxisLength']\n"
     ]
    }
   ],
   "source": [
    "#look at top 5 (abs value of coefficient)\n",
    "ind = np.argpartition(magnitude_coeff, -5)[-5:]\n",
    "top5_values = coeff_mat[ind]\n",
    "top5_labels = features[ind]\n",
    "print(top5_values)\n",
    "print(top5_labels)"
   ]
  },
  {
   "cell_type": "code",
   "execution_count": 15,
   "id": "ac25d9ab",
   "metadata": {},
   "outputs": [],
   "source": [
    "#save Selected features\n",
    "QOI.to_csv(os.path.join(output_dir, \"LASSO_SelectedFeatures.csv\"), index_label = \"FeatureData_Index\") "
   ]
  },
  {
   "cell_type": "code",
   "execution_count": 16,
   "id": "c810b2b1-6504-47ac-aa52-78a33f60e7ae",
   "metadata": {},
   "outputs": [
    {
     "name": "stdout",
     "output_type": "stream",
     "text": [
      "[31 63  3  5  9]\n"
     ]
    }
   ],
   "source": [
    "print(ind)"
   ]
  },
  {
   "cell_type": "code",
   "execution_count": 17,
   "id": "63883dfb",
   "metadata": {},
   "outputs": [
    {
     "name": "stdout",
     "output_type": "stream",
     "text": [
      "                                  Feature  CorrelationCoefficient\n",
      "31           original_firstorder_Variance               -0.000035\n",
      "63  original_gldm_LargeDependenceEmphasis                0.000074\n",
      "3          original_shape_MajorAxisLength                0.000076\n",
      "5     original_shape_Maximum2DDiameterRow                0.000296\n",
      "9          original_shape_MinorAxisLength                0.000421\n"
     ]
    }
   ],
   "source": [
    "Q5 = features_df.iloc[ind]\n",
    "print(Q5)\n",
    "Q5.to_csv(os.path.join(output_dir, \"LASSO_SelectedFeatures_top5.csv\"), index_label = \"FeatureData_Index\")"
   ]
  },
  {
   "cell_type": "code",
   "execution_count": null,
   "id": "92b7b422-a814-45f5-822e-de26e3b24f04",
   "metadata": {},
   "outputs": [],
   "source": []
  }
 ],
 "metadata": {
  "kernelspec": {
   "display_name": "Python 3 (ipykernel)",
   "language": "python",
   "name": "python3"
  },
  "language_info": {
   "codemirror_mode": {
    "name": "ipython",
    "version": 3
   },
   "file_extension": ".py",
   "mimetype": "text/x-python",
   "name": "python",
   "nbconvert_exporter": "python",
   "pygments_lexer": "ipython3",
   "version": "3.13.0"
  }
 },
 "nbformat": 4,
 "nbformat_minor": 5
}
