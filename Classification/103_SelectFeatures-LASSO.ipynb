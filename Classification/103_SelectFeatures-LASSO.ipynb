{
 "cells": [
  {
   "cell_type": "code",
   "execution_count": 1,
   "id": "f73c290f",
   "metadata": {},
   "outputs": [],
   "source": [
    "import os\n",
    "import pandas as pd\n",
    "import numpy as np\n",
    "import random\n",
    "\n",
    "#import logistic regression tools\n",
    "from sklearn.linear_model import Lasso, Ridge\n",
    "\n",
    "#import other classifier tools\n",
    "from sklearn.linear_model import SGDRegressor\n",
    "from sklearn.linear_model import LinearRegression\n",
    "from sklearn.metrics import confusion_matrix, mean_squared_error\n",
    "from sklearn.model_selection import GridSearchCV, KFold, train_test_split\n",
    "from sklearn.pipeline import make_pipeline\n",
    "from sklearn.preprocessing import StandardScaler\n",
    "import xgboost as xgb\n",
    "from sklearn.ensemble import RandomForestClassifier"
   ]
  },
  {
   "cell_type": "code",
   "execution_count": 3,
   "id": "33c7d853",
   "metadata": {},
   "outputs": [],
   "source": [
    "output_dir = \"/Volumes/harmon-lab/liver/classification/radiomics/results/resampled_radiomics\""
   ]
  },
  {
   "cell_type": "code",
   "execution_count": 2,
   "id": "4ad032ce",
   "metadata": {},
   "outputs": [],
   "source": [
    "feat_data_dir = \"/Volumes/harmon-lab/liver/classification/radiomics/results/resampled_radiomics/Final_ResampledClassificationData.csv\"\n",
    "feat_data = pd.read_csv(feat_data_dir)\n",
    "#feat_data = feat_data.drop(columns = [\"NE_Status\", \"NE_Score\"])"
   ]
  },
  {
   "cell_type": "code",
   "execution_count": 6,
   "id": "de652bcf",
   "metadata": {},
   "outputs": [
    {
     "name": "stdout",
     "output_type": "stream",
     "text": [
      "['File' 'diagnostics_Versions_PyRadiomics' 'diagnostics_Versions_Numpy'\n",
      " 'diagnostics_Versions_SimpleITK' 'diagnostics_Versions_PyWavelet'\n",
      " 'diagnostics_Versions_Python' 'diagnostics_Configuration_Settings'\n",
      " 'diagnostics_Configuration_EnabledImageTypes'\n",
      " 'diagnostics_Image-original_Hash'\n",
      " 'diagnostics_Image-original_Dimensionality'\n",
      " 'diagnostics_Image-original_Spacing' 'diagnostics_Image-original_Size'\n",
      " 'diagnostics_Image-original_Mean' 'diagnostics_Image-original_Minimum'\n",
      " 'diagnostics_Image-original_Maximum' 'diagnostics_Mask-original_Hash'\n",
      " 'diagnostics_Mask-original_Spacing' 'diagnostics_Mask-original_Size'\n",
      " 'diagnostics_Mask-original_BoundingBox'\n",
      " 'diagnostics_Mask-original_VoxelNum'\n",
      " 'diagnostics_Mask-original_VolumeNum'\n",
      " 'diagnostics_Mask-original_CenterOfMassIndex'\n",
      " 'diagnostics_Mask-original_CenterOfMass'\n",
      " 'diagnostics_Image-interpolated_Spacing'\n",
      " 'diagnostics_Image-interpolated_Size'\n",
      " 'diagnostics_Image-interpolated_Mean'\n",
      " 'diagnostics_Image-interpolated_Minimum'\n",
      " 'diagnostics_Image-interpolated_Maximum'\n",
      " 'diagnostics_Mask-interpolated_Spacing'\n",
      " 'diagnostics_Mask-interpolated_Size'\n",
      " 'diagnostics_Mask-interpolated_BoundingBox'\n",
      " 'diagnostics_Mask-interpolated_VoxelNum'\n",
      " 'diagnostics_Mask-interpolated_VolumeNum'\n",
      " 'diagnostics_Mask-interpolated_CenterOfMassIndex'\n",
      " 'diagnostics_Mask-interpolated_CenterOfMass'\n",
      " 'diagnostics_Mask-interpolated_Mean'\n",
      " 'diagnostics_Mask-interpolated_Minimum'\n",
      " 'diagnostics_Mask-interpolated_Maximum' 'original_shape_Elongation'\n",
      " 'original_shape_Flatness' 'original_shape_LeastAxisLength'\n",
      " 'original_shape_MajorAxisLength' 'original_shape_Maximum2DDiameterColumn'\n",
      " 'original_shape_Maximum2DDiameterRow'\n",
      " 'original_shape_Maximum2DDiameterSlice'\n",
      " 'original_shape_Maximum3DDiameter' 'original_shape_MeshVolume'\n",
      " 'original_shape_MinorAxisLength' 'original_shape_Sphericity'\n",
      " 'original_shape_SurfaceArea' 'original_shape_SurfaceVolumeRatio'\n",
      " 'original_shape_VoxelVolume' 'original_firstorder_10Percentile'\n",
      " 'original_firstorder_90Percentile' 'original_firstorder_Energy'\n",
      " 'original_firstorder_Entropy' 'original_firstorder_InterquartileRange'\n",
      " 'original_firstorder_Kurtosis' 'original_firstorder_Maximum'\n",
      " 'original_firstorder_MeanAbsoluteDeviation' 'original_firstorder_Mean'\n",
      " 'original_firstorder_Median' 'original_firstorder_Minimum'\n",
      " 'original_firstorder_Range'\n",
      " 'original_firstorder_RobustMeanAbsoluteDeviation'\n",
      " 'original_firstorder_RootMeanSquared' 'original_firstorder_Skewness'\n",
      " 'original_firstorder_TotalEnergy' 'original_firstorder_Uniformity'\n",
      " 'original_firstorder_Variance' 'original_glcm_Autocorrelation'\n",
      " 'original_glcm_ClusterProminence' 'original_glcm_ClusterShade'\n",
      " 'original_glcm_ClusterTendency' 'original_glcm_Contrast'\n",
      " 'original_glcm_Correlation' 'original_glcm_DifferenceAverage'\n",
      " 'original_glcm_DifferenceEntropy' 'original_glcm_DifferenceVariance'\n",
      " 'original_glcm_Id' 'original_glcm_Idm' 'original_glcm_Idmn'\n",
      " 'original_glcm_Idn' 'original_glcm_Imc1' 'original_glcm_Imc2'\n",
      " 'original_glcm_InverseVariance' 'original_glcm_JointAverage'\n",
      " 'original_glcm_JointEnergy' 'original_glcm_JointEntropy'\n",
      " 'original_glcm_MCC' 'original_glcm_MaximumProbability'\n",
      " 'original_glcm_SumAverage' 'original_glcm_SumEntropy'\n",
      " 'original_glcm_SumSquares' 'original_gldm_DependenceEntropy'\n",
      " 'original_gldm_DependenceNonUniformity'\n",
      " 'original_gldm_DependenceNonUniformityNormalized'\n",
      " 'original_gldm_DependenceVariance' 'original_gldm_GrayLevelNonUniformity'\n",
      " 'original_gldm_GrayLevelVariance' 'original_gldm_HighGrayLevelEmphasis'\n",
      " 'original_gldm_LargeDependenceEmphasis'\n",
      " 'original_gldm_LargeDependenceHighGrayLevelEmphasis'\n",
      " 'original_gldm_LargeDependenceLowGrayLevelEmphasis'\n",
      " 'original_gldm_LowGrayLevelEmphasis'\n",
      " 'original_gldm_SmallDependenceEmphasis'\n",
      " 'original_gldm_SmallDependenceHighGrayLevelEmphasis'\n",
      " 'original_gldm_SmallDependenceLowGrayLevelEmphasis'\n",
      " 'original_glrlm_GrayLevelNonUniformity'\n",
      " 'original_glrlm_GrayLevelNonUniformityNormalized'\n",
      " 'original_glrlm_GrayLevelVariance'\n",
      " 'original_glrlm_HighGrayLevelRunEmphasis'\n",
      " 'original_glrlm_LongRunEmphasis'\n",
      " 'original_glrlm_LongRunHighGrayLevelEmphasis'\n",
      " 'original_glrlm_LongRunLowGrayLevelEmphasis'\n",
      " 'original_glrlm_LowGrayLevelRunEmphasis' 'original_glrlm_RunEntropy'\n",
      " 'original_glrlm_RunLengthNonUniformity'\n",
      " 'original_glrlm_RunLengthNonUniformityNormalized'\n",
      " 'original_glrlm_RunPercentage' 'original_glrlm_RunVariance'\n",
      " 'original_glrlm_ShortRunEmphasis'\n",
      " 'original_glrlm_ShortRunHighGrayLevelEmphasis'\n",
      " 'original_glrlm_ShortRunLowGrayLevelEmphasis'\n",
      " 'original_glszm_GrayLevelNonUniformity'\n",
      " 'original_glszm_GrayLevelNonUniformityNormalized'\n",
      " 'original_glszm_GrayLevelVariance'\n",
      " 'original_glszm_HighGrayLevelZoneEmphasis'\n",
      " 'original_glszm_LargeAreaEmphasis'\n",
      " 'original_glszm_LargeAreaHighGrayLevelEmphasis'\n",
      " 'original_glszm_LargeAreaLowGrayLevelEmphasis'\n",
      " 'original_glszm_LowGrayLevelZoneEmphasis'\n",
      " 'original_glszm_SizeZoneNonUniformity'\n",
      " 'original_glszm_SizeZoneNonUniformityNormalized'\n",
      " 'original_glszm_SmallAreaEmphasis'\n",
      " 'original_glszm_SmallAreaHighGrayLevelEmphasis'\n",
      " 'original_glszm_SmallAreaLowGrayLevelEmphasis'\n",
      " 'original_glszm_ZoneEntropy' 'original_glszm_ZonePercentage'\n",
      " 'original_glszm_ZoneVariance' 'original_ngtdm_Busyness'\n",
      " 'original_ngtdm_Coarseness' 'original_ngtdm_Complexity'\n",
      " 'original_ngtdm_Contrast' 'original_ngtdm_Strength' 'Num_Lesions'\n",
      " 'NE_Score' 'NE_Status' 'NE_Class' 'Group']\n"
     ]
    }
   ],
   "source": [
    "print(feat_data)"
   ]
  },
  {
   "cell_type": "code",
   "execution_count": 5,
   "id": "8d31084d",
   "metadata": {},
   "outputs": [],
   "source": [
    "train_df = feat_data[feat_data[\"Group\"] == \"train\"]\n",
    "val_df = feat_data[feat_data[\"Group\"] == \"val\"]\n",
    "test_df = feat_data[feat_data[\"Group\"] == \"test\"]\n",
    "merge_train = feat_data[feat_data[\"Group\"] != \"test\"]"
   ]
  },
  {
   "cell_type": "code",
   "execution_count": 8,
   "id": "506596fa",
   "metadata": {},
   "outputs": [
    {
     "name": "stdout",
     "output_type": "stream",
     "text": [
      "['original_shape_Elongation' 'original_shape_Flatness'\n",
      " 'original_shape_LeastAxisLength' 'original_shape_MajorAxisLength'\n",
      " 'original_shape_Maximum2DDiameterColumn'\n",
      " 'original_shape_Maximum2DDiameterRow'\n",
      " 'original_shape_Maximum2DDiameterSlice'\n",
      " 'original_shape_Maximum3DDiameter' 'original_shape_MeshVolume'\n",
      " 'original_shape_MinorAxisLength' 'original_shape_Sphericity'\n",
      " 'original_shape_SurfaceArea' 'original_shape_SurfaceVolumeRatio'\n",
      " 'original_shape_VoxelVolume' 'original_firstorder_10Percentile'\n",
      " 'original_firstorder_90Percentile' 'original_firstorder_Energy'\n",
      " 'original_firstorder_Entropy' 'original_firstorder_InterquartileRange'\n",
      " 'original_firstorder_Kurtosis' 'original_firstorder_Maximum'\n",
      " 'original_firstorder_MeanAbsoluteDeviation' 'original_firstorder_Mean'\n",
      " 'original_firstorder_Median' 'original_firstorder_Minimum'\n",
      " 'original_firstorder_Range'\n",
      " 'original_firstorder_RobustMeanAbsoluteDeviation'\n",
      " 'original_firstorder_RootMeanSquared' 'original_firstorder_Skewness'\n",
      " 'original_firstorder_TotalEnergy' 'original_firstorder_Uniformity'\n",
      " 'original_firstorder_Variance' 'original_glcm_Autocorrelation'\n",
      " 'original_glcm_ClusterProminence' 'original_glcm_ClusterShade'\n",
      " 'original_glcm_ClusterTendency' 'original_glcm_Contrast'\n",
      " 'original_glcm_Correlation' 'original_glcm_DifferenceAverage'\n",
      " 'original_glcm_DifferenceEntropy' 'original_glcm_DifferenceVariance'\n",
      " 'original_glcm_Id' 'original_glcm_Idm' 'original_glcm_Idmn'\n",
      " 'original_glcm_Idn' 'original_glcm_Imc1' 'original_glcm_Imc2'\n",
      " 'original_glcm_InverseVariance' 'original_glcm_JointAverage'\n",
      " 'original_glcm_JointEnergy' 'original_glcm_JointEntropy'\n",
      " 'original_glcm_MCC' 'original_glcm_MaximumProbability'\n",
      " 'original_glcm_SumAverage' 'original_glcm_SumEntropy'\n",
      " 'original_glcm_SumSquares' 'original_gldm_DependenceEntropy'\n",
      " 'original_gldm_DependenceNonUniformity'\n",
      " 'original_gldm_DependenceNonUniformityNormalized'\n",
      " 'original_gldm_DependenceVariance' 'original_gldm_GrayLevelNonUniformity'\n",
      " 'original_gldm_GrayLevelVariance' 'original_gldm_HighGrayLevelEmphasis'\n",
      " 'original_gldm_LargeDependenceEmphasis'\n",
      " 'original_gldm_LargeDependenceHighGrayLevelEmphasis'\n",
      " 'original_gldm_LargeDependenceLowGrayLevelEmphasis'\n",
      " 'original_gldm_LowGrayLevelEmphasis'\n",
      " 'original_gldm_SmallDependenceEmphasis'\n",
      " 'original_gldm_SmallDependenceHighGrayLevelEmphasis'\n",
      " 'original_gldm_SmallDependenceLowGrayLevelEmphasis'\n",
      " 'original_glrlm_GrayLevelNonUniformity'\n",
      " 'original_glrlm_GrayLevelNonUniformityNormalized'\n",
      " 'original_glrlm_GrayLevelVariance'\n",
      " 'original_glrlm_HighGrayLevelRunEmphasis'\n",
      " 'original_glrlm_LongRunEmphasis'\n",
      " 'original_glrlm_LongRunHighGrayLevelEmphasis'\n",
      " 'original_glrlm_LongRunLowGrayLevelEmphasis'\n",
      " 'original_glrlm_LowGrayLevelRunEmphasis' 'original_glrlm_RunEntropy'\n",
      " 'original_glrlm_RunLengthNonUniformity'\n",
      " 'original_glrlm_RunLengthNonUniformityNormalized'\n",
      " 'original_glrlm_RunPercentage' 'original_glrlm_RunVariance'\n",
      " 'original_glrlm_ShortRunEmphasis'\n",
      " 'original_glrlm_ShortRunHighGrayLevelEmphasis'\n",
      " 'original_glrlm_ShortRunLowGrayLevelEmphasis'\n",
      " 'original_glszm_GrayLevelNonUniformity'\n",
      " 'original_glszm_GrayLevelNonUniformityNormalized'\n",
      " 'original_glszm_GrayLevelVariance'\n",
      " 'original_glszm_HighGrayLevelZoneEmphasis'\n",
      " 'original_glszm_LargeAreaEmphasis'\n",
      " 'original_glszm_LargeAreaHighGrayLevelEmphasis'\n",
      " 'original_glszm_LargeAreaLowGrayLevelEmphasis'\n",
      " 'original_glszm_LowGrayLevelZoneEmphasis'\n",
      " 'original_glszm_SizeZoneNonUniformity'\n",
      " 'original_glszm_SizeZoneNonUniformityNormalized'\n",
      " 'original_glszm_SmallAreaEmphasis'\n",
      " 'original_glszm_SmallAreaHighGrayLevelEmphasis'\n",
      " 'original_glszm_SmallAreaLowGrayLevelEmphasis'\n",
      " 'original_glszm_ZoneEntropy' 'original_glszm_ZonePercentage'\n",
      " 'original_glszm_ZoneVariance' 'original_ngtdm_Busyness'\n",
      " 'original_ngtdm_Coarseness' 'original_ngtdm_Complexity'\n",
      " 'original_ngtdm_Contrast' 'original_ngtdm_Strength' 'Num_Lesions']\n"
     ]
    }
   ],
   "source": [
    "features = merge_train.columns.values[38:146]\n",
    "print(features)"
   ]
  },
  {
   "cell_type": "code",
   "execution_count": 9,
   "id": "c19b948b",
   "metadata": {},
   "outputs": [],
   "source": [
    "#Get Respective Training and Test Predictor and Explanatory variable\n",
    "X_train = merge_train.loc[:, features]\n",
    "Y_train = merge_train.loc[:, \"NE_Score\"]\n",
    "\n",
    "X_test = test_df.loc[:, features]\n",
    "Y_test = test_df.loc[:,\"NE_Score\"]"
   ]
  },
  {
   "cell_type": "code",
   "execution_count": 34,
   "id": "8efd5272",
   "metadata": {},
   "outputs": [
    {
     "name": "stdout",
     "output_type": "stream",
     "text": [
      "Predicted NE Scores for X_test:\n",
      "{'File': ['AIR-SCLC-001_20161012_2_CAP.nii.gz', 'AIR-SCLC-001_20161012_3_SOFT.nii.gz', 'AIR-SCLC-002_20160404_5_CAP.nii.gz', 'AIR-SCLC-002_20160404_6_SOFT.nii.gz', 'AIR-SCLC-003_20160524_2_CAP.nii.gz', 'AIR-SCLC-005_20171018_2_CAP.nii.gz', 'AIR-SCLC-005_20171018_3_SOFT.nii.gz', 'AIR-SCLC-005_20171129_6_CAP.nii.gz', 'AIR-SCLC-005_20171129_7_SOFT.nii.gz', 'AIR-SCLC-006_20170906_2_CAP.nii.gz', 'AIR-SCLC-006_20170906_3_SOFT.nii.gz', 'AIR-SCLC-006_20180131_10_SOFT.nii.gz', 'AIR-SCLC-010_20180611_6_CAP.nii.gz', 'AIR-SCLC-010_20180611_7_SOFT.nii.gz', 'AIR-SCLC-015_20190531_2_CAP.nii.gz', 'AIR-SCLC-015_20190531_3_SOFT.nii.gz', 'AIR-SCLC-015_20190731_2_CAP.nii.gz', 'AIR-SCLC-015_20190731_3_SOFT.nii.gz', 'AIR-SCLC-015_20190828_2_CAP.nii.gz', 'AIR-SCLC-015_20190828_3_SOFT.nii.gz', 'AIR-SCLC-034_20171002_6_CAP.nii.gz', 'AIR-SCLC-034_20171002_7_SOFT.nii.gz', 'AIR-SCLC-034_20171116_6_CAP.nii.gz', 'AIR-SCLC-034_20171116_7_SOFT.nii.gz', 'AIR-SCLC-034_20180521_6_CAP.nii.gz', 'AIR-SCLC-034_20180521_7_SOFT.nii.gz', 'AIR-SCLC-035_20190104_2_CAP.nii.gz', 'AIR-SCLC-035_20190104_3_SOFT.nii.gz', 'AIR-SCLC-035_20190313_2_CAP.nii.gz', 'AIR-SCLC-035_20190313_3_SOFT.nii.gz', 'AIR-SCLC-035_20200219_2_CAP.nii.gz', 'AIR-SCLC-035_20200219_3_SOFT.nii.gz', 'AIR-SCLC-047_20180301_6_CAP.nii.gz', 'AIR-SCLC-047_20180301_7_SOFT.nii.gz', 'AIR-SCLC-055_20180627_6_CAP.nii.gz', 'AIR-SCLC-055_20180627_7_SOFT.nii.gz', 'AIR-SCLC-055_20200304_2_CAP.nii.gz', 'AIR-SCLC-055_20200304_3_SOFT.nii.gz', 'AIR-SCLC-073_20190823_2_CAP.nii.gz', 'AIR-SCLC-073_20190823_3_SOFT.nii.gz', 'AIR-SCLC-076_20191002_2_CAP.nii.gz', 'AIR-SCLC-076_20191002_3_SOFT.nii.gz', 'AIR-SCLC-080_20200108_2_CAP.nii.gz', 'AIR-SCLC-080_20200108_3_SOFT.nii.gz', 'AIR-SCLC-080_20200325_2_CAP.nii.gz', 'AIR-SCLC-080_20200325_3_SOFT.nii.gz', 'AIR-SCLC-080_20200831_2_CAP.nii.gz', 'AIR-SCLC-080_20200831_3_SOFT.nii.gz', 'AIR-SCLC-080_20200925_2_CAP.nii.gz', 'AIR-SCLC-080_20200925_3_SOFT.nii.gz'], 'Predicted_NEScore': [0.19897229987603451, 0.16200814292131338, 0.13777215163418988, 0.1195062966200795, 0.1564168249410219, 0.09972524390486606, 0.09428677263430738, 0.0964643116567166, 0.09500536809864257, 0.13714582953998905, 0.15037706018400132, -0.00811893666498701, 0.15881477306262773, 0.15987501160226636, 0.10267317858500763, 0.16469276620211254, 0.11954013452223428, 0.18317273695168967, 0.07556214427983624, 0.1888915038027415, 0.014349073142882602, 0.03392369005317669, 0.034426346407571945, 0.03691381879787282, 0.05352336929445564, 0.0840733871158868, 0.09328569815394024, 0.06132929816595413, 0.10779752979994629, 0.14947779205634043, 0.0746615092159518, 0.0795938940281269, 0.16422255305895878, 0.15604462085308107, 0.04154271752188419, 0.10976853860974374, 0.12572406376964335, 0.12061584664121697, 0.14120267409329457, 0.15353795018190788, 0.13522034699515617, 0.11520069312848988, 0.06676193953009736, 0.06623510790123951, 0.05328637680043768, 0.04023937525955281, 0.07117368603875872, 0.0634844780962153, 0.06141868771792654, 0.05026325279187333], 'True_NEScore': [0.1295864233141291, 0.1295864233141291, 0.3695546457339163, 0.3695546457339163, 0.2388421664167683, 0.114671152, 0.114671152, 0.2818730339433159, 0.2818730339433159, 0.2901045083478868, 0.2901045083478868, 0.3216178901188476, 0.2000582519453769, 0.2000582519453769, 0.3330347962703248, 0.3330347962703248, -0.123286126, -0.123286126, -0.123286126, -0.123286126, 0.009863023, 0.009863023, -0.004594538, -0.004594538, 0.1165952962957711, 0.1165952962957711, 0.06723217, 0.06723217, -0.07780919, -0.07780919, 0.008388282, 0.008388282, 0.057674097, 0.057674097, 0.1660983079615549, 0.1660983079615549, -0.010851416, -0.010851416, 0.1861802723238751, 0.1861802723238751, 0.1138963054395081, 0.1138963054395081, 0.1437181219850372, 0.1437181219850372, -0.049111799, -0.049111799, 0.011859217, 0.011859217, 0.011859217, 0.011859217]}\n"
     ]
    },
    {
     "name": "stderr",
     "output_type": "stream",
     "text": [
      "/Users/tys2/anaconda3/lib/python3.10/site-packages/sklearn/linear_model/_coordinate_descent.py:631: ConvergenceWarning: Objective did not converge. You might want to increase the number of iterations, check the scale of the features or consider increasing regularisation. Duality gap: 1.332e+00, tolerance: 3.089e-04\n",
      "  model = cd_fast.enet_coordinate_descent(\n"
     ]
    }
   ],
   "source": [
    "#Use LASSO Regression to Select Features\n",
    "clf = Lasso(alpha=0.35)\n",
    "clf.fit(X_train, Y_train)\n",
    "\n",
    "#Apply Test Set\n",
    "results = clf.predict(X_test)\n",
    "test_results = {\"File\" : test_df[\"File\"].tolist(), \"Predicted_NEScore\" : results.tolist(), \"True_NEScore\": Y_test.tolist()}\n",
    "print(\"Predicted NE Scores for X_test:\")\n",
    "print(test_results)"
   ]
  },
  {
   "cell_type": "code",
   "execution_count": 35,
   "id": "fc7d4c2d",
   "metadata": {},
   "outputs": [
    {
     "name": "stdout",
     "output_type": "stream",
     "text": [
      "[[1.         0.15739315]\n",
      " [0.15739315 1.        ]]\n"
     ]
    }
   ],
   "source": [
    "#Eval Performance on Test Data\n",
    "clf.score(X_test, Y_test, sample_weight=None)\n",
    "R2_value = np.corrcoef(Y_test, results)\n",
    "print(R2_value)"
   ]
  },
  {
   "cell_type": "code",
   "execution_count": 36,
   "id": "ed97f247",
   "metadata": {},
   "outputs": [],
   "source": [
    "# Get Correlation Coefficient Matrix\n",
    "coeff_mat = np.array(clf.coef_) #coefficient for each feature\n",
    "features_select = {\"Feature\": features.tolist(), \"CorrelationCoefficient\": coeff_mat.tolist()}"
   ]
  },
  {
   "cell_type": "code",
   "execution_count": 37,
   "id": "ad750ee7",
   "metadata": {},
   "outputs": [
    {
     "name": "stdout",
     "output_type": "stream",
     "text": [
      "                                               Feature  CorrelationCoefficient\n",
      "3                       original_shape_MajorAxisLength            7.589864e-05\n",
      "5                  original_shape_Maximum2DDiameterRow            2.964812e-04\n",
      "8                            original_shape_MeshVolume           -4.984148e-07\n",
      "9                       original_shape_MinorAxisLength            4.214767e-04\n",
      "11                          original_shape_SurfaceArea           -3.287866e-08\n",
      "13                          original_shape_VoxelVolume           -3.788453e-08\n",
      "16                          original_firstorder_Energy           -4.318938e-12\n",
      "29                     original_firstorder_TotalEnergy           -9.429379e-14\n",
      "31                        original_firstorder_Variance           -3.450927e-05\n",
      "57               original_gldm_DependenceNonUniformity            1.293782e-05\n",
      "60                original_gldm_GrayLevelNonUniformity           -1.954947e-07\n",
      "63               original_gldm_LargeDependenceEmphasis            7.411561e-05\n",
      "64   original_gldm_LargeDependenceHighGrayLevelEmph...           -7.959986e-08\n",
      "70               original_glrlm_GrayLevelNonUniformity            2.720899e-07\n",
      "79               original_glrlm_RunLengthNonUniformity           -2.196634e-07\n",
      "86               original_glszm_GrayLevelNonUniformity           -6.913163e-07\n",
      "90                    original_glszm_LargeAreaEmphasis           -2.116887e-09\n",
      "91       original_glszm_LargeAreaHighGrayLevelEmphasis           -1.544419e-12\n",
      "92        original_glszm_LargeAreaLowGrayLevelEmphasis           -1.603310e-07\n",
      "101                        original_glszm_ZoneVariance            1.365587e-09\n",
      "\n",
      "\n",
      "Number of relevant features: \n",
      "20\n"
     ]
    }
   ],
   "source": [
    "#Get All Features Identified in Lasso\n",
    "features_df = pd.DataFrame(features_select)\n",
    "QOI = features_df[features_df[\"CorrelationCoefficient\"] != 0]\n",
    "print(QOI)\n",
    "\n",
    "print(\"\\n\\nNumber of relevant features: \")\n",
    "print(len(QOI[\"Feature\"].tolist()))"
   ]
  },
  {
   "cell_type": "code",
   "execution_count": null,
   "id": "c52a25a9",
   "metadata": {},
   "outputs": [],
   "source": []
  },
  {
   "cell_type": "code",
   "execution_count": 38,
   "id": "1e572cf3",
   "metadata": {},
   "outputs": [
    {
     "name": "stdout",
     "output_type": "stream",
     "text": [
      "[1.29378241e-05 7.41156057e-05 7.58986404e-05 2.96481242e-04\n",
      " 4.21476655e-04]\n",
      "['original_gldm_DependenceNonUniformity'\n",
      " 'original_gldm_LargeDependenceEmphasis' 'original_shape_MajorAxisLength'\n",
      " 'original_shape_Maximum2DDiameterRow' 'original_shape_MinorAxisLength']\n"
     ]
    }
   ],
   "source": [
    "#look at top 5 (raw coefficient)\n",
    "ind = np.argpartition(coeff_mat, -5)[-5:]\n",
    "top5_values = coeff_mat[ind]\n",
    "top5_labels = features[ind]\n",
    "print(top5_values)\n",
    "print(top5_labels)"
   ]
  },
  {
   "cell_type": "code",
   "execution_count": 39,
   "id": "a3e99257",
   "metadata": {},
   "outputs": [
    {
     "name": "stdout",
     "output_type": "stream",
     "text": [
      "[ 0.00000000e+00 -0.00000000e+00 -0.00000000e+00  7.58986404e-05\n",
      " -0.00000000e+00  2.96481242e-04 -0.00000000e+00 -0.00000000e+00\n",
      " -4.98414807e-07  4.21476655e-04  0.00000000e+00 -3.28786609e-08\n",
      " -0.00000000e+00 -3.78845322e-08  0.00000000e+00 -0.00000000e+00\n",
      " -4.31893834e-12 -0.00000000e+00 -0.00000000e+00 -0.00000000e+00\n",
      " -0.00000000e+00 -0.00000000e+00 -0.00000000e+00 -0.00000000e+00\n",
      " -0.00000000e+00 -0.00000000e+00 -0.00000000e+00 -0.00000000e+00\n",
      "  0.00000000e+00 -9.42937868e-14  0.00000000e+00 -3.45092705e-05\n",
      "  0.00000000e+00 -0.00000000e+00 -0.00000000e+00 -0.00000000e+00\n",
      "  0.00000000e+00 -0.00000000e+00  0.00000000e+00 -0.00000000e+00\n",
      "  0.00000000e+00 -0.00000000e+00 -0.00000000e+00  0.00000000e+00\n",
      "  0.00000000e+00  0.00000000e+00 -0.00000000e+00  0.00000000e+00\n",
      "  0.00000000e+00 -0.00000000e+00 -0.00000000e+00 -0.00000000e+00\n",
      " -0.00000000e+00  0.00000000e+00 -0.00000000e+00 -0.00000000e+00\n",
      "  0.00000000e+00  1.29378241e-05 -0.00000000e+00  0.00000000e+00\n",
      " -1.95494743e-07 -0.00000000e+00  0.00000000e+00  7.41156057e-05\n",
      " -7.95998650e-08 -0.00000000e+00 -0.00000000e+00 -0.00000000e+00\n",
      "  0.00000000e+00 -0.00000000e+00  2.72089851e-07  0.00000000e+00\n",
      " -0.00000000e+00  0.00000000e+00  0.00000000e+00  0.00000000e+00\n",
      " -0.00000000e+00 -0.00000000e+00  0.00000000e+00 -2.19663358e-07\n",
      " -0.00000000e+00 -0.00000000e+00  0.00000000e+00 -0.00000000e+00\n",
      "  0.00000000e+00 -0.00000000e+00 -6.91316317e-07  0.00000000e+00\n",
      "  0.00000000e+00  0.00000000e+00 -2.11688672e-09 -1.54441867e-12\n",
      " -1.60331017e-07  0.00000000e+00 -0.00000000e+00  0.00000000e+00\n",
      "  0.00000000e+00  0.00000000e+00  0.00000000e+00 -0.00000000e+00\n",
      " -0.00000000e+00  1.36558658e-09 -0.00000000e+00 -0.00000000e+00\n",
      "  0.00000000e+00 -0.00000000e+00 -0.00000000e+00 -0.00000000e+00]\n",
      "\n",
      "\n",
      "Looking at magnitude only: \n",
      "[0.00000000e+00 0.00000000e+00 0.00000000e+00 7.58986404e-05\n",
      " 0.00000000e+00 2.96481242e-04 0.00000000e+00 0.00000000e+00\n",
      " 4.98414807e-07 4.21476655e-04 0.00000000e+00 3.28786609e-08\n",
      " 0.00000000e+00 3.78845322e-08 0.00000000e+00 0.00000000e+00\n",
      " 4.31893834e-12 0.00000000e+00 0.00000000e+00 0.00000000e+00\n",
      " 0.00000000e+00 0.00000000e+00 0.00000000e+00 0.00000000e+00\n",
      " 0.00000000e+00 0.00000000e+00 0.00000000e+00 0.00000000e+00\n",
      " 0.00000000e+00 9.42937868e-14 0.00000000e+00 3.45092705e-05\n",
      " 0.00000000e+00 0.00000000e+00 0.00000000e+00 0.00000000e+00\n",
      " 0.00000000e+00 0.00000000e+00 0.00000000e+00 0.00000000e+00\n",
      " 0.00000000e+00 0.00000000e+00 0.00000000e+00 0.00000000e+00\n",
      " 0.00000000e+00 0.00000000e+00 0.00000000e+00 0.00000000e+00\n",
      " 0.00000000e+00 0.00000000e+00 0.00000000e+00 0.00000000e+00\n",
      " 0.00000000e+00 0.00000000e+00 0.00000000e+00 0.00000000e+00\n",
      " 0.00000000e+00 1.29378241e-05 0.00000000e+00 0.00000000e+00\n",
      " 1.95494743e-07 0.00000000e+00 0.00000000e+00 7.41156057e-05\n",
      " 7.95998650e-08 0.00000000e+00 0.00000000e+00 0.00000000e+00\n",
      " 0.00000000e+00 0.00000000e+00 2.72089851e-07 0.00000000e+00\n",
      " 0.00000000e+00 0.00000000e+00 0.00000000e+00 0.00000000e+00\n",
      " 0.00000000e+00 0.00000000e+00 0.00000000e+00 2.19663358e-07\n",
      " 0.00000000e+00 0.00000000e+00 0.00000000e+00 0.00000000e+00\n",
      " 0.00000000e+00 0.00000000e+00 6.91316317e-07 0.00000000e+00\n",
      " 0.00000000e+00 0.00000000e+00 2.11688672e-09 1.54441867e-12\n",
      " 1.60331017e-07 0.00000000e+00 0.00000000e+00 0.00000000e+00\n",
      " 0.00000000e+00 0.00000000e+00 0.00000000e+00 0.00000000e+00\n",
      " 0.00000000e+00 1.36558658e-09 0.00000000e+00 0.00000000e+00\n",
      " 0.00000000e+00 0.00000000e+00 0.00000000e+00 0.00000000e+00]\n"
     ]
    }
   ],
   "source": [
    "#look at correlation\n",
    "print(coeff_mat)\n",
    "magnitude_coeff = abs(coeff_mat)\n",
    "print(\"\\n\\nLooking at magnitude only: \")\n",
    "print(magnitude_coeff)"
   ]
  },
  {
   "cell_type": "code",
   "execution_count": 40,
   "id": "35c928ec",
   "metadata": {},
   "outputs": [
    {
     "name": "stdout",
     "output_type": "stream",
     "text": [
      "[-3.45092705e-05  2.96481242e-04  7.58986404e-05  4.21476655e-04\n",
      "  7.41156057e-05]\n",
      "['original_firstorder_Variance' 'original_shape_Maximum2DDiameterRow'\n",
      " 'original_shape_MajorAxisLength' 'original_shape_MinorAxisLength'\n",
      " 'original_gldm_LargeDependenceEmphasis']\n"
     ]
    }
   ],
   "source": [
    "#look at top 5 (abs value of coefficient)\n",
    "ind = np.argpartition(magnitude_coeff, -5)[-5:]\n",
    "top5_values = coeff_mat[ind]\n",
    "top5_labels = features[ind]\n",
    "print(top5_values)\n",
    "print(top5_labels)"
   ]
  },
  {
   "cell_type": "code",
   "execution_count": 41,
   "id": "ac25d9ab",
   "metadata": {},
   "outputs": [],
   "source": [
    "#save Selected features\n",
    "QOI.to_csv(os.path.join(output_dir, \"LASSO_SelectedFeatures.csv\"), index_label = \"FeatureData_Index\") "
   ]
  },
  {
   "cell_type": "code",
   "execution_count": null,
   "id": "63883dfb",
   "metadata": {},
   "outputs": [],
   "source": []
  }
 ],
 "metadata": {
  "kernelspec": {
   "display_name": "Python 3 (ipykernel)",
   "language": "python",
   "name": "python3"
  },
  "language_info": {
   "codemirror_mode": {
    "name": "ipython",
    "version": 3
   },
   "file_extension": ".py",
   "mimetype": "text/x-python",
   "name": "python",
   "nbconvert_exporter": "python",
   "pygments_lexer": "ipython3",
   "version": "3.10.9"
  }
 },
 "nbformat": 4,
 "nbformat_minor": 5
}
